{
  "cells": [
    {
      "cell_type": "code",
      "execution_count": null,
      "metadata": {
        "colab": {
          "base_uri": "https://localhost:8080/"
        },
        "id": "yuRxbSDumsW6",
        "outputId": "7b0ea711-fec9-4dbf-bb6d-faff10b1587a"
      },
      "outputs": [
        {
          "name": "stdout",
          "output_type": "stream",
          "text": [
            "Drive already mounted at /content/drive; to attempt to forcibly remount, call drive.mount(\"/content/drive\", force_remount=True).\n"
          ]
        }
      ],
      "source": [
        "from google.colab import drive\n",
        "drive.mount('/content/drive')"
      ]
    },
    {
      "cell_type": "code",
      "execution_count": null,
      "metadata": {
        "colab": {
          "base_uri": "https://localhost:8080/"
        },
        "id": "OfD74ivToG8x",
        "outputId": "7c5470b3-135c-4462-c2ac-a66961133c4f"
      },
      "outputs": [
        {
          "name": "stdout",
          "output_type": "stream",
          "text": [
            "Requirement already satisfied: imdbpy in /usr/local/lib/python3.11/dist-packages (2022.7.9)\n",
            "Requirement already satisfied: cinemagoer in /usr/local/lib/python3.11/dist-packages (from imdbpy) (2023.5.1)\n",
            "Requirement already satisfied: SQLAlchemy in /usr/local/lib/python3.11/dist-packages (from cinemagoer->imdbpy) (2.0.41)\n",
            "Requirement already satisfied: lxml in /usr/local/lib/python3.11/dist-packages (from cinemagoer->imdbpy) (5.4.0)\n",
            "Requirement already satisfied: greenlet>=1 in /usr/local/lib/python3.11/dist-packages (from SQLAlchemy->cinemagoer->imdbpy) (3.2.2)\n",
            "Requirement already satisfied: typing-extensions>=4.6.0 in /usr/local/lib/python3.11/dist-packages (from SQLAlchemy->cinemagoer->imdbpy) (4.14.0)\n",
            "Requirement already satisfied: rapidfuzz in /usr/local/lib/python3.11/dist-packages (3.13.0)\n"
          ]
        }
      ],
      "source": [
        "import pandas as pd\n",
        "import numpy as np\n",
        "import matplotlib.pyplot as plt\n",
        "from sklearn.model_selection import train_test_split\n",
        "from sklearn.preprocessing import MultiLabelBinarizer\n",
        "from sklearn.feature_extraction.text import TfidfVectorizer, CountVectorizer\n",
        "from sklearn.linear_model import LogisticRegression\n",
        "from sklearn.metrics import accuracy_score, precision_score, recall_score, f1_score, classification_report\n",
        "import re\n",
        "!pip install imdbpy\n",
        "from imdb import IMDb\n",
        "from difflib import get_close_matches\n",
        "!pip install rapidfuzz\n",
        "from rapidfuzz import process"
      ]
    },
    {
      "cell_type": "code",
      "execution_count": null,
      "metadata": {
        "id": "GEgt_GihoSSK"
      },
      "outputs": [],
      "source": [
        "# Load MovieLens movies and links for IMDb mapping\n",
        "movies = pd.read_csv('movies.csv')      # columns: movieId, title, genres\n",
        "links = pd.read_csv('links.csv')        # columns: movieId, imdbId\n",
        "\n",
        "# Merge MovieLens IDs to get IMDb IDs\n",
        "movies = movies.merge(links[['movieId', 'imdbId']], on='movieId', how='left')\n",
        "movies['imdbId'] = movies['imdbId'].astype(str).str.zfill(7)"
      ]
    },
    {
      "cell_type": "code",
      "execution_count": null,
      "metadata": {
        "id": "fqxQb_TwxDi0"
      },
      "outputs": [],
      "source": [
        "ia = IMDb()\n",
        "\n",
        "def fetch_movie_details(title):\n",
        "    \"\"\"Fetch IMDb data for a single movie by title.\"\"\"\n",
        "    try:\n",
        "        search_results = ia.search_movie(title)\n",
        "        if not search_results:\n",
        "            return None\n",
        "        movie = ia.get_movie(search_results[0].movieID)\n",
        "        return {\n",
        "            'title': movie.get('title', title),\n",
        "            'plot': movie.get('plot outline') or (movie.get('plot') or [''])[0],\n",
        "            'genres': movie.get('genres', []),\n",
        "            'cast': [c['name'] for c in movie.get('cast', [])[:3]],\n",
        "            'director': [d['name'] for d in movie.get('directors', [])[:1]]\n",
        "        }\n",
        "    except Exception as e:\n",
        "        print(f\"Error fetching {title}: {str(e)}\")\n",
        "        return None\n",
        "\n",
        "def get_movielens_genres(title):\n",
        "    \"\"\"Get genres from MovieLens data for a given title.\"\"\"\n",
        "    row = movies[movies['title'] == title]\n",
        "    if not row.empty:\n",
        "        # MovieLens genres are pipe-separated, convert to list\n",
        "        return row.iloc[0]['genres'].split('|')\n",
        "    return [\"N/A\"]"
      ]
    },
    {
      "cell_type": "code",
      "execution_count": null,
      "metadata": {
        "id": "XECbBVNmMcdY"
      },
      "outputs": [],
      "source": [
        "def normalize_title(title):\n",
        "    \"\"\"Lowercase and remove year in parentheses.\"\"\"\n",
        "    return re.sub(r'\\s*\\(\\d{4}\\)', '', title).strip().lower()\n",
        "\n",
        "def get_movie_index(user_input):\n",
        "    titles = movies['title'].tolist()\n",
        "    titles_norm = [normalize_title(t) for t in titles]\n",
        "    user_input_norm = normalize_title(user_input)\n",
        "    match, score, idx = process.extractOne(user_input_norm, titles_norm)\n",
        "    print(f\"Best match: {titles[idx]} (Score: {score})\")\n",
        "    return idx if score > 60 else None\n"
      ]
    },
    {
      "cell_type": "code",
      "execution_count": null,
      "metadata": {
        "id": "5hra04zGMleX"
      },
      "outputs": [],
      "source": [
        "def get_local_candidates(user_genres, exclude_title, top_n=20):\n",
        "    \"\"\"Find movies with genre overlap using local data.\"\"\"\n",
        "    def genre_overlap(row):\n",
        "        return len(set(user_genres) & set(row['genres'].split('|')))\n",
        "\n",
        "    movies['score'] = movies.apply(genre_overlap, axis=1)\n",
        "    return movies[\n",
        "        (movies['score'] > 0) &\n",
        "        (movies['title'] != exclude_title)\n",
        "    ].sort_values('score', ascending=False).head(top_n)\n"
      ]
    },
    {
      "cell_type": "code",
      "execution_count": null,
      "metadata": {
        "id": "Te7zcingMp8c"
      },
      "outputs": [],
      "source": [
        "def recommend_movies_optimized(user_input, rec_n=5, shortlist_n=20):\n",
        "    # 1. Fuzzy match user input to local data\n",
        "    idx = get_movie_index(user_input)\n",
        "    if idx is None:\n",
        "        print(\"Movie not found in local database.\")\n",
        "        return []\n",
        "\n",
        "    local_movie = movies.iloc[idx]\n",
        "    print(f\"Found local match: {local_movie['title']}\")\n",
        "\n",
        "    # 2. Fetch IMDb data for input movie\n",
        "    input_details = fetch_movie_details(local_movie['title'])\n",
        "    if not input_details:\n",
        "        print(\"Couldn't fetch details for input movie.\")\n",
        "        return []\n",
        "\n",
        "    # 3. Get local candidates using MovieLens genres\n",
        "    candidates = get_local_candidates(\n",
        "        local_movie['genres'].split('|'),\n",
        "        local_movie['title'],\n",
        "        top_n=shortlist_n\n",
        "    )\n",
        "\n",
        "    # 4. Fetch IMDb data only for top candidates\n",
        "    recommendations = []\n",
        "    for _, row in candidates.iterrows():\n",
        "      details = fetch_movie_details(row['title'])\n",
        "      if details:\n",
        "        # If IMDb genres are missing, use MovieLens genres\n",
        "        if not details['genres']:\n",
        "            details['genres'] = get_movielens_genres(row['title'])\n",
        "        recommendations.append(details)\n",
        "      if len(recommendations) >= rec_n:\n",
        "        break\n",
        "\n",
        "    # 5. Display results\n",
        "    print(f\"\\nInput movie: {input_details['title']}\")\n",
        "    print(\"Genres:\", \", \".join(input_details['genres']))\n",
        "    print(\"Plot:\", input_details['plot'][:200] + \"...\\n\")\n",
        "\n",
        "    print(\"Top recommendations:\")\n",
        "    for i, rec in enumerate(recommendations, 1):\n",
        "        print(f\"\\n{i}. {rec['title']}\")\n",
        "        print(\"Genres:\", \", \".join(rec['genres']) if rec['genres'] else \"N/A\")\n",
        "        print(\"Plot:\", rec['plot'][:200] + \"...\")\n",
        "\n",
        "    return recommendations\n"
      ]
    },
    {
      "cell_type": "code",
      "execution_count": null,
      "metadata": {
        "colab": {
          "base_uri": "https://localhost:8080/"
        },
        "collapsed": true,
        "id": "SugxyMpQS1y-",
        "outputId": "7248f720-5db6-488a-e29a-7f858ac6292c"
      },
      "outputs": [
        {
          "name": "stdout",
          "output_type": "stream",
          "text": [
            "Requirement already satisfied: requests in /usr/local/lib/python3.11/dist-packages (2.32.3)\n",
            "Requirement already satisfied: charset-normalizer<4,>=2 in /usr/local/lib/python3.11/dist-packages (from requests) (3.4.2)\n",
            "Requirement already satisfied: idna<4,>=2.5 in /usr/local/lib/python3.11/dist-packages (from requests) (3.10)\n",
            "Requirement already satisfied: urllib3<3,>=1.21.1 in /usr/local/lib/python3.11/dist-packages (from requests) (2.4.0)\n",
            "Requirement already satisfied: certifi>=2017.4.17 in /usr/local/lib/python3.11/dist-packages (from requests) (2025.4.26)\n"
          ]
        }
      ],
      "source": [
        "!pip install requests"
      ]
    },
    {
      "cell_type": "code",
      "execution_count": null,
      "metadata": {
        "collapsed": true,
        "id": "vh25KRDBWpCi"
      },
      "outputs": [],
      "source": [
        "# Movie Plot Generation Engine using Hugging Face Transformers Model\n",
        "import requests\n",
        "\n",
        "HF_API_TOKEN = \" INPUT YOUR HUGGING FACE API TOKEN HERE\"  # Replace with your Hugging Face API token\n",
        "\n",
        "def plot_gen(genres, model=\"HuggingFaceH4/zephyr-7b-beta\", max_tokens=400):\n",
        "\n",
        "    genre_str = ', '.join([g.strip().capitalize() for g in genres if g.strip()])\n",
        "    prompt = f\"\"\"Write a detailed movie plot for a {genre_str} film.\n",
        "Describe the main characters, the setting, and the central conflict.\n",
        "Present the story from the protagonist's point of view, line by line, and include a timeline of events.\n",
        "The story should start with a shocking, exciting event and end with a quiet, melancholic resolution.\n",
        "Structure your answer as follows:\n",
        "\n",
        "TITLE: [Creative Title]\n",
        "MAIN CHARACTERS:\n",
        "- [Name]: [Description]\n",
        "SETTING: [Time/Place Description]\n",
        "CENTRAL CONFLICT: [1-2 sentence conflict]\n",
        "STORYLINE (Protagonist's POV):\n",
        "1. [Dramatic opening event]\n",
        "2. [Key romantic or genre moment]\n",
        "3. [Genre escalation]\n",
        "4. [Climactic choice]\n",
        "5. [Melancholic resolution]\n",
        "TIMELINE:\n",
        "- Day 1: [Event]\n",
        "- Day 3: [Event]\n",
        "- Day 7: [Final event]\n",
        "\"\"\"\n",
        "    API_URL = f\"https://api-inference.huggingface.co/models/{model}\"\n",
        "    headers = {\"Authorization\": f\"Bearer {HF_API_TOKEN}\"}\n",
        "    payload = {\n",
        "        \"inputs\": prompt,\n",
        "        \"parameters\": {\n",
        "            \"max_new_tokens\": max_tokens,\n",
        "            \"temperature\": 0.9,\n",
        "            \"do_sample\": True\n",
        "        }\n",
        "    }\n",
        "    response = requests.post(API_URL, headers=headers, json=payload)\n",
        "    if response.status_code == 200:\n",
        "        result = response.json()\n",
        "        if isinstance(result, list) and \"generated_text\" in result[0]:\n",
        "            return result[0][\"generated_text\"]\n",
        "        elif isinstance(result, dict) and \"generated_text\" in result:\n",
        "            return result[\"generated_text\"]\n",
        "        else:\n",
        "            return str(result)\n",
        "    else:\n",
        "        return f\"Error: {response.status_code} {response.text}\"\n"
      ]
    },
    {
      "cell_type": "code",
      "execution_count": null,
      "metadata": {
        "colab": {
          "base_uri": "https://localhost:8080/"
        },
        "id": "Amb7UIvVapVN",
        "outputId": "b4a46526-6c22-4855-914a-c4d4eef8c794"
      },
      "outputs": [
        {
          "name": "stdout",
          "output_type": "stream",
          "text": [
            "\n",
            "Welcome to the Movie Assistant!\n",
            "1. Get movie recommendations based on a movie name\n",
            "2. Generate a movie plot from genres\n",
            "3. Exit\n",
            "Enter your choice (1/2/3): 3\n",
            "Goodbye!\n"
          ]
        }
      ],
      "source": [
        "def show_menu():\n",
        "    print(\"\\nWelcome to the Movie Assistant!\")\n",
        "    print(\"1. Get movie recommendations based on a movie name\")\n",
        "    print(\"2. Generate a movie plot from genres\")\n",
        "    print(\"3. Exit\")\n",
        "    choice = input(\"Enter your choice (1/2/3): \")\n",
        "    return choice.strip()\n",
        "\n",
        "def menu_recommend_movies():\n",
        "    user_input = input(\"Enter a movie name: \")\n",
        "    recommend_movies_optimized(user_input, rec_n=5, shortlist_n=20)\n",
        "\n",
        "def menu_generate_plot():\n",
        "    user_input = input(\"Enter genres for your movie plot (comma separated): \")\n",
        "    genres = user_input.split(',')\n",
        "    plot = plot_gen(genres)\n",
        "    print(\"\\nGenerated Plot:\\n\")\n",
        "    print(plot)\n",
        "\n",
        "# Main menu loop\n",
        "while True:\n",
        "    choice = show_menu()\n",
        "    if choice == '1':\n",
        "        menu_recommend_movies()\n",
        "    elif choice == '2':\n",
        "        menu_generate_plot()\n",
        "    elif choice == '3':\n",
        "        print(\"Goodbye!\")\n",
        "        break\n",
        "    else:\n",
        "        print(\"Invalid choice. Please enter 1, 2, or 3.\")\n"
      ]
    },
    {
      "cell_type": "code",
      "execution_count": null,
      "metadata": {
        "colab": {
          "base_uri": "https://localhost:8080/"
        },
        "id": "upVFlLwjctch",
        "outputId": "f612e1aa-98c5-43cb-ef33-233557c5f6b3"
      },
      "outputs": [
        {
          "name": "stdout",
          "output_type": "stream",
          "text": [
            "\n",
            "========================================\n",
            "======= Model Evaluation Metrics =======\n",
            "========================================\n",
            "Accuracy: \t0.9270\n",
            "Precision: \t0.9830\n",
            "Recall: \t0.9793\n",
            "F1-Score: \t0.9811\n",
            "Hamming Loss: \t0.0041\n",
            "\n",
            "Top Genre Performance:\n",
            "              precision    recall  f1-score   support\n",
            "\n",
            "      Action       0.98      0.99      0.98       416\n",
            "   Adventure       0.96      0.98      0.97       335\n",
            "   Animation       0.95      0.95      0.95        85\n",
            "    Children       0.95      0.97      0.96       235\n",
            "      Comedy       0.99      0.99      0.99      1033\n",
            "       Crime       0.99      0.97      0.98       298\n",
            " Documentary       1.00      0.99      0.99        99\n",
            "       Drama       0.99      1.00      0.99      1457\n",
            "     Fantasy       0.96      0.94      0.95       170\n",
            "   Film-Noir       1.00      0.97      0.99        38\n",
            "      Horror       0.99      0.99      0.99       275\n",
            "        IMAX       0.50      0.33      0.40         6\n",
            "     Musical       0.99      0.93      0.96       111\n",
            "     Mystery       0.97      0.94      0.96       155\n",
            "     Romance       0.98      0.96      0.97       521\n",
            "      Sci-Fi       1.00      1.00      1.00       229\n",
            "    Thriller       0.98      0.98      0.98       510\n",
            "         War       0.99      0.93      0.96       109\n",
            "     Western       1.00      0.83      0.91        53\n",
            "\n",
            "   micro avg       0.98      0.98      0.98      6135\n",
            "   macro avg       0.96      0.93      0.94      6135\n",
            "weighted avg       0.98      0.98      0.98      6135\n",
            " samples avg       0.99      0.99      0.99      6135\n",
            "\n"
          ]
        }
      ],
      "source": [
        "# Choose a manageable subset (ex first 1000 movies)\n",
        "N = 3000  # Lower this number if it is hitting RAM limits\n",
        "movies_small = movies.head(N).copy()\n",
        "\n",
        "#Combine features (adjust as needed for columns)\n",
        "def combine_features(row):\n",
        "    return ' '.join([\n",
        "        str(row['genres']),\n",
        "        str(row.get('keywords', '')),\n",
        "        str(row.get('cast', '')),\n",
        "        str(row.get('director', ''))\n",
        "    ])\n",
        "\n",
        "movies_small['combined'] = movies_small.apply(combine_features, axis=1)\n",
        "\n",
        "#Compute similarity matrix (CountVectorizer only, no plot)\n",
        "from sklearn.feature_extraction.text import CountVectorizer\n",
        "from sklearn.metrics.pairwise import cosine_similarity\n",
        "\n",
        "count = CountVectorizer(stop_words='english')\n",
        "count_matrix = count.fit_transform(movies_small['combined'].fillna(''))\n",
        "\n",
        "hybrid_sim = cosine_similarity(count_matrix, count_matrix)\n",
        "\n",
        "#Evaluation metrics function (use this movies_small and hybrid_sim)\n",
        "from sklearn.preprocessing import MultiLabelBinarizer\n",
        "from sklearn.metrics import accuracy_score, precision_score, recall_score, f1_score, classification_report, hamming_loss\n",
        "\n",
        "def evaluate_model_subset(movies_df, sim_matrix):\n",
        "    # Prepare true genres\n",
        "    true_genres_list = [g.split('|') if g else [] for g in movies_df['genres'].tolist()]\n",
        "\n",
        "    # Generate predictions: for each movie, use genres of most similar movie (excluding itself)\n",
        "    predicted_genres_list = []\n",
        "    for idx in range(len(movies_df)):\n",
        "        sim_scores = list(enumerate(sim_matrix[idx]))\n",
        "        sim_scores = sorted(sim_scores, key=lambda x: x[1], reverse=True)\n",
        "        sim_scores = [s for s in sim_scores if s[0] != idx]\n",
        "        if sim_scores:\n",
        "            most_sim_idx = sim_scores[0][0]\n",
        "            pred_genres = movies_df.iloc[most_sim_idx]['genres'].split('|')\n",
        "        else:\n",
        "            pred_genres = []\n",
        "        predicted_genres_list.append(pred_genres)\n",
        "\n",
        "    # Binarize\n",
        "    mlb = MultiLabelBinarizer()\n",
        "    y_true = mlb.fit_transform(true_genres_list)\n",
        "    y_pred = mlb.transform(predicted_genres_list)\n",
        "\n",
        "    # Metrics\n",
        "    accuracy = accuracy_score(y_true, y_pred)\n",
        "    precision = precision_score(y_true, y_pred, average='micro')\n",
        "    recall = recall_score(y_true, y_pred, average='micro')\n",
        "    f1 = f1_score(y_true, y_pred, average='micro')\n",
        "    hamming = hamming_loss(y_true, y_pred)\n",
        "    report = classification_report(y_true, y_pred, target_names=mlb.classes_, zero_division=0)\n",
        "\n",
        "    print(\"\\n\" + \"=\"*40)\n",
        "    print(\" Model Evaluation Metrics \".center(40, \"=\"))\n",
        "    print(\"=\"*40)\n",
        "    print(f\"Accuracy: \\t{accuracy:.4f}\")\n",
        "    print(f\"Precision: \\t{precision:.4f}\")\n",
        "    print(f\"Recall: \\t{recall:.4f}\")\n",
        "    print(f\"F1-Score: \\t{f1:.4f}\")\n",
        "    print(f\"Hamming Loss: \\t{hamming:.4f}\")\n",
        "    print(\"\\nTop Genre Performance:\")\n",
        "    print(report)\n",
        "    return {\n",
        "        'accuracy': accuracy,\n",
        "        'precision': precision,\n",
        "        'recall': recall,\n",
        "        'f1': f1,\n",
        "        'hamming_loss': hamming\n",
        "    }\n",
        "\n",
        "#Run evaluation on the subset\n",
        "metrics = evaluate_model_subset(movies_small, hybrid_sim)\n"
      ]
    }
  ],
  "metadata": {
    "accelerator": "GPU",
    "colab": {
      "gpuType": "T4",
      "provenance": []
    },
    "kernelspec": {
      "display_name": "Python 3",
      "name": "python3"
    },
    "language_info": {
      "name": "python"
    }
  },
  "nbformat": 4,
  "nbformat_minor": 0
}
